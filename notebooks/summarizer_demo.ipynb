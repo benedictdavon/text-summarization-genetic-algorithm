{
 "cells": [
  {
   "cell_type": "markdown",
   "metadata": {},
   "source": [
    "# Libraries"
   ]
  },
  {
   "cell_type": "code",
   "execution_count": 1,
   "metadata": {},
   "outputs": [],
   "source": [
    "import pandas as pd"
   ]
  },
  {
   "cell_type": "markdown",
   "metadata": {},
   "source": [
    "# Data\n",
    "##\n",
    "https://huggingface.co/datasets/fancyzhx/ag_news"
   ]
  },
  {
   "cell_type": "code",
   "execution_count": 2,
   "metadata": {},
   "outputs": [
    {
     "name": "stderr",
     "output_type": "stream",
     "text": [
      "C:\\Users\\Davon\\AppData\\Local\\Packages\\PythonSoftwareFoundation.Python.3.11_qbz5n2kfra8p0\\LocalCache\\local-packages\\Python311\\site-packages\\tqdm\\auto.py:21: TqdmWarning: IProgress not found. Please update jupyter and ipywidgets. See https://ipywidgets.readthedocs.io/en/stable/user_install.html\n",
      "  from .autonotebook import tqdm as notebook_tqdm\n",
      "C:\\Users\\Davon\\AppData\\Local\\Packages\\PythonSoftwareFoundation.Python.3.11_qbz5n2kfra8p0\\LocalCache\\local-packages\\Python311\\site-packages\\datasets\\table.py:1421: FutureWarning: promote has been superseded by mode='default'.\n",
      "  table = cls._concat_blocks(blocks, axis=0)\n"
     ]
    }
   ],
   "source": [
    "from datasets import load_dataset\n",
    "\n",
    "ds = load_dataset(\"antash420/text-summarization-alpaca-format\")"
   ]
  },
  {
   "cell_type": "code",
   "execution_count": 3,
   "metadata": {},
   "outputs": [],
   "source": [
    "inputs = ds['train']['input']\n",
    "references = ds['train']['output']"
   ]
  },
  {
   "cell_type": "code",
   "execution_count": 4,
   "metadata": {},
   "outputs": [
    {
     "name": "stdout",
     "output_type": "stream",
     "text": [
      "287113\n"
     ]
    }
   ],
   "source": [
    "print(len(inputs))"
   ]
  },
  {
   "cell_type": "code",
   "execution_count": 5,
   "metadata": {},
   "outputs": [
    {
     "name": "stdout",
     "output_type": "stream",
     "text": [
      "LONDON, England (Reuters) -- Harry Potter star Daniel Radcliffe gains access to a reported £20 million ($41.1 million) fortune as he turns 18 on Monday, but he insists the money won't cast a spell on him. Daniel Radcliffe as Harry Potter in \"Harry Potter and the Order of the Phoenix\" To the disappointment of gossip columnists around the world, the young actor says he has no plans to fritter his cash away on fast cars, drink and celebrity parties. \"I don't plan to be one of those people who, as soon as they turn 18, suddenly buy themselves a massive sports car collection or something similar,\" he told an Australian interviewer earlier this month. \"I don't think I'll be particularly extravagant. \"The things I like buying are things that cost about 10 pounds -- books and CDs and DVDs.\" At 18, Radcliffe will be able to gamble in a casino, buy a drink in a pub or see the horror film \"Hostel: Part II,\" currently six places below his number one movie on the UK box office chart. Details of how he'll mark his landmark birthday are under wraps. His agent and publicist had no comment on his plans. \"I'll definitely have some sort of party,\" he said in an interview. \"Hopefully none of you will be reading about it.\" Radcliffe's earnings from the first five Potter films have been held in a trust fund which he has not been able to touch. Despite his growing fame and riches, the actor says he is keeping his feet firmly on the ground. \"People are always looking to say 'kid star goes off the rails,'\" he told reporters last month. \"But I try very hard not to go that way because it would be too easy for them.\" His latest outing as the boy wizard in \"Harry Potter and the Order of the Phoenix\" is breaking records on both sides of the Atlantic and he will reprise the role in the last two films.  Watch I-Reporter give her review of Potter's latest » . There is life beyond Potter, however. The Londoner has filmed a TV movie called \"My Boy Jack,\" about author Rudyard Kipling and his son, due for release later this year. He will also appear in \"December Boys,\" an Australian film about four boys who escape an orphanage. Earlier this year, he made his stage debut playing a tortured teenager in Peter Shaffer's \"Equus.\" Meanwhile, he is braced for even closer media scrutiny now that he's legally an adult: \"I just think I'm going to be more sort of fair game,\" he told Reuters. E-mail to a friend . Copyright 2007 Reuters. All rights reserved.This material may not be published, broadcast, rewritten, or redistributed.\n"
     ]
    }
   ],
   "source": [
    "print(inputs[0])"
   ]
  },
  {
   "cell_type": "code",
   "execution_count": 6,
   "metadata": {},
   "outputs": [
    {
     "name": "stdout",
     "output_type": "stream",
     "text": [
      "Harry Potter star Daniel Radcliffe gets £20M fortune as he turns 18 Monday .\n",
      "Young actor says he has no plans to fritter his cash away .\n",
      "Radcliffe's earnings from first five Potter films have been held in trust fund .\n"
     ]
    }
   ],
   "source": [
    "print(references[0])"
   ]
  },
  {
   "cell_type": "markdown",
   "metadata": {},
   "source": [
    "# Data Preprocessing"
   ]
  },
  {
   "cell_type": "markdown",
   "metadata": {},
   "source": [
    "## Tokenizing Input"
   ]
  },
  {
   "cell_type": "code",
   "execution_count": 7,
   "metadata": {},
   "outputs": [],
   "source": [
    "from nltk.tokenize import sent_tokenize\n",
    "\n",
    "tokenized_inputs = [sent_tokenize(text) for text in inputs]"
   ]
  },
  {
   "cell_type": "code",
   "execution_count": 8,
   "metadata": {},
   "outputs": [
    {
     "name": "stdout",
     "output_type": "stream",
     "text": [
      "287113\n"
     ]
    }
   ],
   "source": [
    "print(len(tokenized_inputs))"
   ]
  },
  {
   "cell_type": "code",
   "execution_count": 23,
   "metadata": {},
   "outputs": [
    {
     "name": "stdout",
     "output_type": "stream",
     "text": [
      "[\"LONDON, England (Reuters) -- Harry Potter star Daniel Radcliffe gains access to a reported £20 million ($41.1 million) fortune as he turns 18 on Monday, but he insists the money won't cast a spell on him.\", 'Daniel Radcliffe as Harry Potter in \"Harry Potter and the Order of the Phoenix\" To the disappointment of gossip columnists around the world, the young actor says he has no plans to fritter his cash away on fast cars, drink and celebrity parties.', '\"I don\\'t plan to be one of those people who, as soon as they turn 18, suddenly buy themselves a massive sports car collection or something similar,\" he told an Australian interviewer earlier this month.', '\"I don\\'t think I\\'ll be particularly extravagant.', '\"The things I like buying are things that cost about 10 pounds -- books and CDs and DVDs.\"', 'At 18, Radcliffe will be able to gamble in a casino, buy a drink in a pub or see the horror film \"Hostel: Part II,\" currently six places below his number one movie on the UK box office chart.', \"Details of how he'll mark his landmark birthday are under wraps.\", 'His agent and publicist had no comment on his plans.', '\"I\\'ll definitely have some sort of party,\" he said in an interview.', '\"Hopefully none of you will be reading about it.\"', \"Radcliffe's earnings from the first five Potter films have been held in a trust fund which he has not been able to touch.\", 'Despite his growing fame and riches, the actor says he is keeping his feet firmly on the ground.', '\"People are always looking to say \\'kid star goes off the rails,\\'\" he told reporters last month.', '\"But I try very hard not to go that way because it would be too easy for them.\"', 'His latest outing as the boy wizard in \"Harry Potter and the Order of the Phoenix\" is breaking records on both sides of the Atlantic and he will reprise the role in the last two films.', \"Watch I-Reporter give her review of Potter's latest » .\", 'There is life beyond Potter, however.', 'The Londoner has filmed a TV movie called \"My Boy Jack,\" about author Rudyard Kipling and his son, due for release later this year.', 'He will also appear in \"December Boys,\" an Australian film about four boys who escape an orphanage.', 'Earlier this year, he made his stage debut playing a tortured teenager in Peter Shaffer\\'s \"Equus.\"', 'Meanwhile, he is braced for even closer media scrutiny now that he\\'s legally an adult: \"I just think I\\'m going to be more sort of fair game,\" he told Reuters.', 'E-mail to a friend .', 'Copyright 2007 Reuters.', 'All rights reserved.This material may not be published, broadcast, rewritten, or redistributed.']\n"
     ]
    }
   ],
   "source": [
    "print(tokenized_inputs[0])"
   ]
  },
  {
   "cell_type": "markdown",
   "metadata": {},
   "source": [
    "## Sentence Embedding"
   ]
  },
  {
   "cell_type": "code",
   "execution_count": null,
   "metadata": {},
   "outputs": [],
   "source": [
    "from sentence_transformers import SentenceTransformer\n",
    "import numpy as np\n",
    "# Load pre-trained BERT model for sentence embeddings\n",
    "model = SentenceTransformer('all-MiniLM-L6-v2')  # Lightweight, suitable for sentence embeddings"
   ]
  },
  {
   "cell_type": "code",
   "execution_count": null,
   "metadata": {},
   "outputs": [],
   "source": [
    "def get_sentence_embeddings(sentences, batch_size=32):\n",
    "    \"\"\"\n",
    "    Generate sentence embeddings using a pre-trained BERT model.\n",
    "    \n",
    "    Args:\n",
    "        sentences (list of str): List of sentences.\n",
    "        batch_size (int): Number of sentences to process in each batch.\n",
    "        \n",
    "    Returns:\n",
    "        np.ndarray: Sentence embeddings.\n",
    "    \"\"\"\n",
    "    embeddings = []\n",
    "    for i in range(0, len(sentences), batch_size):\n",
    "        batch = sentences[i:i + batch_size]\n",
    "        batch_embeddings = model.encode(batch, convert_to_numpy=True)\n",
    "        embeddings.append(batch_embeddings)\n",
    "    return np.vstack(embeddings)"
   ]
  },
  {
   "cell_type": "code",
   "execution_count": 28,
   "metadata": {},
   "outputs": [],
   "source": [
    "sentence_embeddings = []\n",
    "\n",
    "for sentences in tokenized_inputs:\n",
    "    embeddings = get_sentence_embeddings(sentences)\n",
    "    sentence_embeddings.append(embeddings)"
   ]
  },
  {
   "cell_type": "code",
   "execution_count": 29,
   "metadata": {},
   "outputs": [
    {
     "name": "stdout",
     "output_type": "stream",
     "text": [
      "287113\n"
     ]
    }
   ],
   "source": [
    "print(len(sentence_embeddings))"
   ]
  },
  {
   "cell_type": "code",
   "execution_count": 10,
   "metadata": {},
   "outputs": [],
   "source": [
    "import numpy as np"
   ]
  },
  {
   "cell_type": "code",
   "execution_count": null,
   "metadata": {},
   "outputs": [
    {
     "name": "stdout",
     "output_type": "stream",
     "text": [
      "Embeddings saved to 'sentence_embeddings.npy'\n"
     ]
    }
   ],
   "source": [
    "# Convert list of embeddings to a single numpy array\n",
    "sentence_embeddings = np.vstack(sentence_embeddings)\n",
    "\n",
    "# Save embeddings to a file\n",
    "np.save('../data/sentence_embeddings.npy', sentence_embeddings)\n",
    "\n",
    "print(\"Embeddings saved to 'sentence_embeddings.npy'\")"
   ]
  },
  {
   "cell_type": "code",
   "execution_count": null,
   "metadata": {},
   "outputs": [],
   "source": [
    "# # Save embeddings to a .txt file\n",
    "# # WARNING THIS FILE WILL BE 100gb in size, run on your own risk :D\n",
    "# np.savetxt('sentence_embeddings.txt', sentence_embeddings)"
   ]
  },
  {
   "cell_type": "code",
   "execution_count": null,
   "metadata": {},
   "outputs": [],
   "source": [
    "sentence_embeddings = np.load('../data/sentence_embeddings.npy')"
   ]
  },
  {
   "cell_type": "code",
   "execution_count": 12,
   "metadata": {},
   "outputs": [
    {
     "data": {
      "text/plain": [
       "(11224982, 384)"
      ]
     },
     "execution_count": 12,
     "metadata": {},
     "output_type": "execute_result"
    }
   ],
   "source": [
    "sentence_embeddings.shape"
   ]
  },
  {
   "cell_type": "markdown",
   "metadata": {},
   "source": [
    "# Experiment Parts"
   ]
  },
  {
   "cell_type": "code",
   "execution_count": 25,
   "metadata": {},
   "outputs": [],
   "source": [
    "from sklearn.metrics.pairwise import cosine_similarity\n",
    "from rouge_score import rouge_scorer\n",
    "import random"
   ]
  },
  {
   "cell_type": "code",
   "execution_count": 21,
   "metadata": {},
   "outputs": [],
   "source": [
    "def calculate_fitness(chromosome, sentences, embeddings, reference_summary):\n",
    "    \"\"\"\n",
    "    Calculate fitness of a chromosome.\n",
    "\n",
    "    Args:\n",
    "        chromosome (np.ndarray): Binary array representing selected sentences.\n",
    "        sentences (list of str): List of sentences in the document.\n",
    "        embeddings (np.ndarray): Sentence embeddings.\n",
    "        reference_summary (str): Reference summary.\n",
    "\n",
    "    Returns:\n",
    "        float: Fitness score.\n",
    "    \"\"\"\n",
    "    # Selected sentences\n",
    "    selected_sentences = [sentences[i] for i, bit in enumerate(chromosome) if bit == 1]\n",
    "    if not selected_sentences:\n",
    "        return 0  # Avoid empty summaries\n",
    "\n",
    "    summary_text = \" \".join(selected_sentences)\n",
    "\n",
    "    # ROUGE Score\n",
    "    scorer = rouge_scorer.RougeScorer(['rouge1', 'rouge2', 'rougeL'], use_stemmer=True)\n",
    "    rouge_scores = scorer.score(reference_summary, summary_text)\n",
    "    content_score = rouge_scores['rouge1'].fmeasure  # F1-score of ROUGE-1\n",
    "\n",
    "    # Diversity (Cosine Similarity)\n",
    "    selected_embeddings = np.array([embeddings[i] for i, bit in enumerate(chromosome) if bit == 1])\n",
    "    if len(selected_embeddings) > 1:\n",
    "        similarity_matrix = cosine_similarity(selected_embeddings)\n",
    "        redundancy_penalty = np.mean(similarity_matrix[np.triu_indices_from(similarity_matrix, k=1)])\n",
    "        diversity_score = 1 - redundancy_penalty  # Higher is better\n",
    "    else:\n",
    "        diversity_score = 1  # Maximum diversity for a single sentence\n",
    "\n",
    "    # Final Fitness\n",
    "    fitness = content_score * 0.7 + diversity_score * 0.3  # Weighted fitness\n",
    "    return fitness\n"
   ]
  },
  {
   "cell_type": "code",
   "execution_count": 15,
   "metadata": {},
   "outputs": [],
   "source": [
    "\n",
    "def initialize_population(num_sentences, population_size):\n",
    "    \"\"\"\n",
    "    Initialize a population of binary chromosomes.\n",
    "    \n",
    "    Args:\n",
    "        num_sentences (int): Number of sentences in the input.\n",
    "        population_size (int): Number of chromosomes in the population.\n",
    "        \n",
    "    Returns:\n",
    "        np.ndarray: Binary matrix representing the population.\n",
    "    \"\"\"\n",
    "    return np.random.randint(2, size=(population_size, num_sentences))"
   ]
  },
  {
   "cell_type": "code",
   "execution_count": 16,
   "metadata": {},
   "outputs": [],
   "source": [
    "def select_parents(population, fitness_scores):\n",
    "    \"\"\"\n",
    "    Select two parents using roulette wheel selection.\n",
    "    \n",
    "    Args:\n",
    "        population (np.ndarray): Current population.\n",
    "        fitness_scores (list of float): Fitness scores for each chromosome.\n",
    "        \n",
    "    Returns:\n",
    "        tuple: Two selected parent chromosomes.\n",
    "    \"\"\"\n",
    "    probabilities = fitness_scores / np.sum(fitness_scores)\n",
    "    indices = np.random.choice(len(population), size=2, p=probabilities)\n",
    "    return population[indices[0]], population[indices[1]]"
   ]
  },
  {
   "cell_type": "code",
   "execution_count": 26,
   "metadata": {},
   "outputs": [],
   "source": [
    "def selection(population, fitness_scores, num_parents):\n",
    "    parents = np.empty((num_parents, population.shape[1]))\n",
    "    for parent_num in range(num_parents):\n",
    "        max_fitness_idx = np.where(fitness_scores == np.max(fitness_scores))\n",
    "        max_fitness_idx = max_fitness_idx[0][0]\n",
    "        parents[parent_num, :] = population[max_fitness_idx, :]\n",
    "        fitness_scores[max_fitness_idx] = -99999999\n",
    "    return parents"
   ]
  },
  {
   "cell_type": "code",
   "execution_count": 27,
   "metadata": {},
   "outputs": [],
   "source": [
    "def crossover(parent1, parent2, crossover_rate=0.8):\n",
    "    \"\"\"\n",
    "    Perform single-point crossover on two parents.\n",
    "    \n",
    "    Args:\n",
    "        parent1, parent2 (np.ndarray): Parent chromosomes.\n",
    "        crossover_rate (float): Probability of crossover.\n",
    "        \n",
    "    Returns:\n",
    "        np.ndarray: Two child chromosomes.\n",
    "    \"\"\"\n",
    "    if np.random.rand() < crossover_rate:\n",
    "        point = np.random.randint(1, len(parent1) - 1)\n",
    "        child1 = np.concatenate((parent1[:point], parent2[point:]))\n",
    "        child2 = np.concatenate((parent2[:point], parent1[point:]))\n",
    "        return child1, child2\n",
    "    return parent1, parent2\n"
   ]
  },
  {
   "cell_type": "code",
   "execution_count": 29,
   "metadata": {},
   "outputs": [],
   "source": [
    "def mutate(offspring_crossover, mutation_rate=0.01):\n",
    "    for idx in range(offspring_crossover.shape[0]):\n",
    "        for _ in range(mutation_rate):\n",
    "            i = random.randint(0, offspring_crossover.shape[1] - 1)\n",
    "            offspring_crossover[idx, i] = 1 - offspring_crossover[idx, i]\n",
    "    return offspring_crossover"
   ]
  },
  {
   "cell_type": "code",
   "execution_count": 30,
   "metadata": {},
   "outputs": [],
   "source": [
    "def evolve_population(population, sentences, embeddings, reference_summary, mutation_rate=0.01):\n",
    "    \"\"\"\n",
    "    Evolve the population using genetic operations.\n",
    "    \n",
    "    Args:\n",
    "        population (np.ndarray): Current population.\n",
    "        sentences (list of str): List of sentences in the document.\n",
    "        embeddings (np.ndarray): Sentence embeddings.\n",
    "        reference_summary (str): Reference summary.\n",
    "        mutation_rate (float): Probability of mutation per bit.\n",
    "        \n",
    "    Returns:\n",
    "        np.ndarray: New population.\n",
    "    \"\"\"\n",
    "    fitness_scores = [calculate_fitness(ind, sentences, embeddings, reference_summary) for ind in population]\n",
    "    new_population = []\n",
    "    \n",
    "    for _ in range(len(population) // 2):  # Generate pairs of children\n",
    "        parent1, parent2 = select_parents(population, fitness_scores)\n",
    "        child1, child2 = crossover(parent1, parent2)\n",
    "        child1 = mutate(child1, mutation_rate)\n",
    "        child2 = mutate(child2, mutation_rate)\n",
    "        new_population.extend([child1, child2])\n",
    "    \n",
    "    return np.array(new_population)\n"
   ]
  },
  {
   "cell_type": "code",
   "execution_count": 34,
   "metadata": {},
   "outputs": [
    {
     "name": "stdout",
     "output_type": "stream",
     "text": [
      "Harry Potter star Daniel Radcliffe gets £20M fortune as he turns 18 Monday .\n",
      "Young actor says he has no plans to fritter his cash away .\n",
      "Radcliffe's earnings from first five Potter films have been held in trust fund .\n"
     ]
    }
   ],
   "source": [
    "print(references[0])"
   ]
  },
  {
   "cell_type": "code",
   "execution_count": 36,
   "metadata": {},
   "outputs": [
    {
     "ename": "AttributeError",
     "evalue": "'list' object has no attribute 'lower'",
     "output_type": "error",
     "traceback": [
      "\u001b[1;31m---------------------------------------------------------------------------\u001b[0m",
      "\u001b[1;31mAttributeError\u001b[0m                            Traceback (most recent call last)",
      "Cell \u001b[1;32mIn[36], line 14\u001b[0m\n\u001b[0;32m     11\u001b[0m population \u001b[38;5;241m=\u001b[39m initialize_population(pop_size, num_sentences)\n\u001b[0;32m     13\u001b[0m \u001b[38;5;28;01mfor\u001b[39;00m generation \u001b[38;5;129;01min\u001b[39;00m \u001b[38;5;28mrange\u001b[39m(num_generations):\n\u001b[1;32m---> 14\u001b[0m     fitness_scores \u001b[38;5;241m=\u001b[39m np\u001b[38;5;241m.\u001b[39marray(\u001b[43m[\u001b[49m\u001b[43mcalculate_fitness\u001b[49m\u001b[43m(\u001b[49m\u001b[43mchromosome\u001b[49m\u001b[43m,\u001b[49m\u001b[43m \u001b[49m\u001b[43msentences\u001b[49m\u001b[43m,\u001b[49m\u001b[43m \u001b[49m\u001b[43membeddings\u001b[49m\u001b[43m,\u001b[49m\u001b[43m \u001b[49m\u001b[43mexample_text\u001b[49m\u001b[43m)\u001b[49m\u001b[43m \u001b[49m\u001b[38;5;28;43;01mfor\u001b[39;49;00m\u001b[43m \u001b[49m\u001b[43mchromosome\u001b[49m\u001b[43m \u001b[49m\u001b[38;5;129;43;01min\u001b[39;49;00m\u001b[43m \u001b[49m\u001b[43mpopulation\u001b[49m\u001b[43m]\u001b[49m)\n\u001b[0;32m     15\u001b[0m     parents \u001b[38;5;241m=\u001b[39m selection(population, fitness_scores, num_parents_mating)\n\u001b[0;32m     16\u001b[0m     offspring_crossover \u001b[38;5;241m=\u001b[39m crossover(parents, (pop_size \u001b[38;5;241m-\u001b[39m parents\u001b[38;5;241m.\u001b[39mshape[\u001b[38;5;241m0\u001b[39m], num_sentences))\n",
      "Cell \u001b[1;32mIn[36], line 14\u001b[0m, in \u001b[0;36m<listcomp>\u001b[1;34m(.0)\u001b[0m\n\u001b[0;32m     11\u001b[0m population \u001b[38;5;241m=\u001b[39m initialize_population(pop_size, num_sentences)\n\u001b[0;32m     13\u001b[0m \u001b[38;5;28;01mfor\u001b[39;00m generation \u001b[38;5;129;01min\u001b[39;00m \u001b[38;5;28mrange\u001b[39m(num_generations):\n\u001b[1;32m---> 14\u001b[0m     fitness_scores \u001b[38;5;241m=\u001b[39m np\u001b[38;5;241m.\u001b[39marray([\u001b[43mcalculate_fitness\u001b[49m\u001b[43m(\u001b[49m\u001b[43mchromosome\u001b[49m\u001b[43m,\u001b[49m\u001b[43m \u001b[49m\u001b[43msentences\u001b[49m\u001b[43m,\u001b[49m\u001b[43m \u001b[49m\u001b[43membeddings\u001b[49m\u001b[43m,\u001b[49m\u001b[43m \u001b[49m\u001b[43mexample_text\u001b[49m\u001b[43m)\u001b[49m \u001b[38;5;28;01mfor\u001b[39;00m chromosome \u001b[38;5;129;01min\u001b[39;00m population])\n\u001b[0;32m     15\u001b[0m     parents \u001b[38;5;241m=\u001b[39m selection(population, fitness_scores, num_parents_mating)\n\u001b[0;32m     16\u001b[0m     offspring_crossover \u001b[38;5;241m=\u001b[39m crossover(parents, (pop_size \u001b[38;5;241m-\u001b[39m parents\u001b[38;5;241m.\u001b[39mshape[\u001b[38;5;241m0\u001b[39m], num_sentences))\n",
      "Cell \u001b[1;32mIn[35], line 63\u001b[0m, in \u001b[0;36mcalculate_fitness\u001b[1;34m(chromosome, sentences, embeddings, reference_summary)\u001b[0m\n\u001b[0;32m     61\u001b[0m \u001b[38;5;66;03m# ROUGE Score\u001b[39;00m\n\u001b[0;32m     62\u001b[0m scorer \u001b[38;5;241m=\u001b[39m rouge_scorer\u001b[38;5;241m.\u001b[39mRougeScorer([\u001b[38;5;124m'\u001b[39m\u001b[38;5;124mrouge1\u001b[39m\u001b[38;5;124m'\u001b[39m, \u001b[38;5;124m'\u001b[39m\u001b[38;5;124mrouge2\u001b[39m\u001b[38;5;124m'\u001b[39m, \u001b[38;5;124m'\u001b[39m\u001b[38;5;124mrougeL\u001b[39m\u001b[38;5;124m'\u001b[39m], use_stemmer\u001b[38;5;241m=\u001b[39m\u001b[38;5;28;01mTrue\u001b[39;00m)\n\u001b[1;32m---> 63\u001b[0m rouge_scores \u001b[38;5;241m=\u001b[39m \u001b[43mscorer\u001b[49m\u001b[38;5;241;43m.\u001b[39;49m\u001b[43mscore\u001b[49m\u001b[43m(\u001b[49m\u001b[43mreference_summary\u001b[49m\u001b[43m,\u001b[49m\u001b[43m \u001b[49m\u001b[43msummary_text\u001b[49m\u001b[43m)\u001b[49m\n\u001b[0;32m     64\u001b[0m content_score \u001b[38;5;241m=\u001b[39m rouge_scores[\u001b[38;5;124m'\u001b[39m\u001b[38;5;124mrouge1\u001b[39m\u001b[38;5;124m'\u001b[39m]\u001b[38;5;241m.\u001b[39mfmeasure  \u001b[38;5;66;03m# F1-score of ROUGE-1\u001b[39;00m\n\u001b[0;32m     66\u001b[0m \u001b[38;5;66;03m# Diversity (Cosine Similarity)\u001b[39;00m\n",
      "File \u001b[1;32m~\\AppData\\Local\\Packages\\PythonSoftwareFoundation.Python.3.11_qbz5n2kfra8p0\\LocalCache\\local-packages\\Python311\\site-packages\\rouge_score\\rouge_scorer.py:128\u001b[0m, in \u001b[0;36mRougeScorer.score\u001b[1;34m(self, target, prediction)\u001b[0m\n\u001b[0;32m    126\u001b[0m   prediction_tokens \u001b[38;5;241m=\u001b[39m \u001b[38;5;28;01mNone\u001b[39;00m\n\u001b[0;32m    127\u001b[0m \u001b[38;5;28;01melse\u001b[39;00m:\n\u001b[1;32m--> 128\u001b[0m   target_tokens \u001b[38;5;241m=\u001b[39m \u001b[38;5;28;43mself\u001b[39;49m\u001b[38;5;241;43m.\u001b[39;49m\u001b[43m_tokenizer\u001b[49m\u001b[38;5;241;43m.\u001b[39;49m\u001b[43mtokenize\u001b[49m\u001b[43m(\u001b[49m\u001b[43mtarget\u001b[49m\u001b[43m)\u001b[49m\n\u001b[0;32m    129\u001b[0m   prediction_tokens \u001b[38;5;241m=\u001b[39m \u001b[38;5;28mself\u001b[39m\u001b[38;5;241m.\u001b[39m_tokenizer\u001b[38;5;241m.\u001b[39mtokenize(prediction)\n\u001b[0;32m    130\u001b[0m result \u001b[38;5;241m=\u001b[39m {}\n",
      "File \u001b[1;32m~\\AppData\\Local\\Packages\\PythonSoftwareFoundation.Python.3.11_qbz5n2kfra8p0\\LocalCache\\local-packages\\Python311\\site-packages\\rouge_score\\tokenizers.py:50\u001b[0m, in \u001b[0;36mDefaultTokenizer.tokenize\u001b[1;34m(self, text)\u001b[0m\n\u001b[0;32m     49\u001b[0m \u001b[38;5;28;01mdef\u001b[39;00m \u001b[38;5;21mtokenize\u001b[39m(\u001b[38;5;28mself\u001b[39m, text):\n\u001b[1;32m---> 50\u001b[0m   \u001b[38;5;28;01mreturn\u001b[39;00m \u001b[43mtokenize\u001b[49m\u001b[38;5;241;43m.\u001b[39;49m\u001b[43mtokenize\u001b[49m\u001b[43m(\u001b[49m\u001b[43mtext\u001b[49m\u001b[43m,\u001b[49m\u001b[43m \u001b[49m\u001b[38;5;28;43mself\u001b[39;49m\u001b[38;5;241;43m.\u001b[39;49m\u001b[43m_stemmer\u001b[49m\u001b[43m)\u001b[49m\n",
      "File \u001b[1;32m~\\AppData\\Local\\Packages\\PythonSoftwareFoundation.Python.3.11_qbz5n2kfra8p0\\LocalCache\\local-packages\\Python311\\site-packages\\rouge_score\\tokenize.py:49\u001b[0m, in \u001b[0;36mtokenize\u001b[1;34m(text, stemmer)\u001b[0m\n\u001b[0;32m     35\u001b[0m \u001b[38;5;250m\u001b[39m\u001b[38;5;124;03m\"\"\"Tokenize input text into a list of tokens.\u001b[39;00m\n\u001b[0;32m     36\u001b[0m \n\u001b[0;32m     37\u001b[0m \u001b[38;5;124;03mThis approach aims to replicate the approach taken by Chin-Yew Lin in\u001b[39;00m\n\u001b[1;32m   (...)\u001b[0m\n\u001b[0;32m     45\u001b[0m \u001b[38;5;124;03m  A list of string tokens extracted from input text.\u001b[39;00m\n\u001b[0;32m     46\u001b[0m \u001b[38;5;124;03m\"\"\"\u001b[39;00m\n\u001b[0;32m     48\u001b[0m \u001b[38;5;66;03m# Convert everything to lowercase.\u001b[39;00m\n\u001b[1;32m---> 49\u001b[0m text \u001b[38;5;241m=\u001b[39m \u001b[43mtext\u001b[49m\u001b[38;5;241;43m.\u001b[39;49m\u001b[43mlower\u001b[49m()\n\u001b[0;32m     50\u001b[0m \u001b[38;5;66;03m# Replace any non-alpha-numeric characters with spaces.\u001b[39;00m\n\u001b[0;32m     51\u001b[0m text \u001b[38;5;241m=\u001b[39m NON_ALPHANUM_RE\u001b[38;5;241m.\u001b[39msub(\u001b[38;5;124m\"\u001b[39m\u001b[38;5;124m \u001b[39m\u001b[38;5;124m\"\u001b[39m, six\u001b[38;5;241m.\u001b[39mensure_str(text))\n",
      "\u001b[1;31mAttributeError\u001b[0m: 'list' object has no attribute 'lower'"
     ]
    }
   ],
   "source": [
    "pop_size = 10\n",
    "num_sentences = len(sentences)\n",
    "num_generations = 50\n",
    "num_parents_mating = 4\n",
    "mutation_rate = 2\n",
    "\n",
    "\n",
    "example_text = tokenized_inputs[0]\n",
    "embeddings = sentence_embeddings[0]\n",
    "reference_summary = references[0]\n",
    "population = initialize_population(pop_size, num_sentences)\n",
    "\n",
    "for generation in range(num_generations):\n",
    "    fitness_scores = np.array([calculate_fitness(chromosome, sentences, embeddings, example_text) for chromosome in population])\n",
    "    parents = selection(population, fitness_scores, num_parents_mating)\n",
    "    offspring_crossover = crossover(parents, (pop_size - parents.shape[0], num_sentences))\n",
    "    offspring_mutation = mutate(offspring_crossover, mutation_rate)\n",
    "    population[0:parents.shape[0], :] = parents\n",
    "    population[parents.shape[0]:, :] = offspring_mutation\n",
    "\n",
    "# Best solution\n",
    "best_chromosome = population[np.argmax(fitness_scores)]\n",
    "best_summary = \" \".join([sentences[i] for i, bit in enumerate(best_chromosome) if bit == 1])\n",
    "print(\"Best Summary:\", best_summary)"
   ]
  }
 ],
 "metadata": {
  "kernelspec": {
   "display_name": "Python 3",
   "language": "python",
   "name": "python3"
  },
  "language_info": {
   "codemirror_mode": {
    "name": "ipython",
    "version": 3
   },
   "file_extension": ".py",
   "mimetype": "text/x-python",
   "name": "python",
   "nbconvert_exporter": "python",
   "pygments_lexer": "ipython3",
   "version": "3.11.9"
  }
 },
 "nbformat": 4,
 "nbformat_minor": 2
}
